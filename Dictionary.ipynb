{
 "cells": [
  {
   "cell_type": "code",
   "execution_count": 1,
   "metadata": {},
   "outputs": [
    {
     "name": "stdout",
     "output_type": "stream",
     "text": [
      "green\n",
      "5\n"
     ]
    }
   ],
   "source": [
    "alien_0 ={'color':'green', 'points':'5'}\n",
    "print(alien_0['color'])\n",
    "print(alien_0['points'])"
   ]
  },
  {
   "cell_type": "code",
   "execution_count": 6,
   "metadata": {},
   "outputs": [
    {
     "name": "stdout",
     "output_type": "stream",
     "text": [
      "you just earned 5 points\n"
     ]
    }
   ],
   "source": [
    "alien_0 ={'color':'green', 'points':'5'}\n",
    "new_points=alien_0['points']\n",
    "print(\"you just earned \"+str(new_points)+\" points\")"
   ]
  },
  {
   "cell_type": "code",
   "execution_count": 7,
   "metadata": {},
   "outputs": [
    {
     "name": "stdout",
     "output_type": "stream",
     "text": [
      "{'color': 'green', 'points': '5', 'x_coordinate': 25, 'y_coordinate': 2}\n"
     ]
    }
   ],
   "source": [
    "alien_0 ={'color':'green', 'points':'5'}\n",
    "\n",
    "alien_0['x_coordinate']=25\n",
    "alien_0['y_coordinate']=2\n",
    "print(alien_0)"
   ]
  },
  {
   "cell_type": "code",
   "execution_count": 12,
   "metadata": {},
   "outputs": [
    {
     "name": "stdout",
     "output_type": "stream",
     "text": [
      "sarah's fav language is C.\n"
     ]
    }
   ],
   "source": [
    "flanguages={\n",
    "    'jen':'python',\n",
    "    'sarah':'c',\n",
    "    'edward':'ruby',\n",
    "    'phil':'python',\n",
    "}\n",
    "print(\"sarah's fav language is \" + flanguages['sarah'].title() +\".\")"
   ]
  },
  {
   "cell_type": "code",
   "execution_count": 52,
   "metadata": {},
   "outputs": [
    {
     "name": "stdout",
     "output_type": "stream",
     "text": [
      "\n",
      "Henry is a star striker for Arsenal!\n",
      "\n",
      "Rooney is a star striker for Man_United!\n",
      "\n",
      "Ronaldo is a star striker for Real_Madrid!\n",
      "\n",
      "Fabregas is a star striker for Chelsea!\n",
      "\n",
      "Kane is a star striker for Tottenham!\n"
     ]
    }
   ],
   "source": [
    "football_pronames = {\n",
    "    'Henry':'Arsenal',\n",
    "    'Rooney':'Man_united',\n",
    "    'Ronaldo':'Real_Madrid',\n",
    "    'Fabregas':'Chelsea',\n",
    "    'kane': 'tottenham',\n",
    "    }\n",
    "for players in football_pronames.keys():             \n",
    "    print(\"\\n\"+ players.title() +\" is a star striker for \" + football_pronames[players].title()+ \"!\")\n",
    "    "
   ]
  },
  {
   "cell_type": "code",
   "execution_count": 58,
   "metadata": {},
   "outputs": [],
   "source": [
    "Government_requirments = {\n",
    "       'min_age':'40',\n",
    "       'Min_Education': 'Master Degree',\n",
    "       'Marital Status':'Married',\n",
    "       'Min_children':'1',\n",
    "}\n"
   ]
  },
  {
   "cell_type": "code",
   "execution_count": 65,
   "metadata": {},
   "outputs": [
    {
     "name": "stdout",
     "output_type": "stream",
     "text": [
      "{'min_age': '40', 'Min_Education': 'Master Degree', 'Marital Status': 'Married', 'Min_children': '1'}\n"
     ]
    }
   ],
   "source": [
    "print(Government_requirments)"
   ]
  },
  {
   "cell_type": "code",
   "execution_count": 66,
   "metadata": {},
   "outputs": [
    {
     "name": "stdout",
     "output_type": "stream",
     "text": [
      "40\n"
     ]
    }
   ],
   "source": [
    "print(Government_requirments['min_age'])"
   ]
  },
  {
   "cell_type": "code",
   "execution_count": 68,
   "metadata": {},
   "outputs": [
    {
     "name": "stdout",
     "output_type": "stream",
     "text": [
      "Master Degree\n"
     ]
    }
   ],
   "source": [
    "print(Government_requirments['Min_Education'])"
   ]
  },
  {
   "cell_type": "code",
   "execution_count": null,
   "metadata": {},
   "outputs": [],
   "source": []
  }
 ],
 "metadata": {
  "kernelspec": {
   "display_name": "Python 3",
   "language": "python",
   "name": "python3"
  },
  "language_info": {
   "codemirror_mode": {
    "name": "ipython",
    "version": 3
   },
   "file_extension": ".py",
   "mimetype": "text/x-python",
   "name": "python",
   "nbconvert_exporter": "python",
   "pygments_lexer": "ipython3",
   "version": "3.6.5"
  }
 },
 "nbformat": 4,
 "nbformat_minor": 2
}
